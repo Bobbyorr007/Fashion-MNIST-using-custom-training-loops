{
  "nbformat": 4,
  "nbformat_minor": 0,
  "metadata": {
    "colab": {
      "name": "Fashion_MNIST using Custom Training Loop",
      "provenance": [],
      "authorship_tag": "ABX9TyPmm1rROtQoYqIeltTIE7Fp",
      "include_colab_link": true
    },
    "kernelspec": {
      "name": "python3",
      "display_name": "Python 3"
    },
    "language_info": {
      "name": "python"
    },
    "accelerator": "TPU"
  },
  "cells": [
    {
      "cell_type": "markdown",
      "metadata": {
        "id": "view-in-github",
        "colab_type": "text"
      },
      "source": [
        "<a href=\"https://colab.research.google.com/github/Bobbyorr007/Fashion-MNIST-using-custom-training-loops/blob/main/Fashion_MNIST_using_Custom_Training_Loop.ipynb\" target=\"_parent\"><img src=\"https://colab.research.google.com/assets/colab-badge.svg\" alt=\"Open In Colab\"/></a>"
      ]
    },
    {
      "cell_type": "markdown",
      "source": [
        "**Fashion MNIST using Custom Training Loop**\n",
        "\n",
        "I built a custom training loop and a validation loop so as to train a model on the Fashion MNIST datasets."
      ],
      "metadata": {
        "id": "c1ABWukkY0Ji"
      }
    },
    {
      "cell_type": "markdown",
      "source": [
        "**Imports**"
      ],
      "metadata": {
        "id": "LIaVE1QiZgt2"
      }
    },
    {
      "cell_type": "code",
      "execution_count": 1,
      "metadata": {
        "id": "X6HuNC5t_MZT"
      },
      "outputs": [],
      "source": [
        "try:\n",
        "  # %tensorflow_version only exists in Colab.\n",
        "  %tensorflow_version 2.x\n",
        "except Exception:\n",
        "  pass\n",
        "  \n",
        "import tensorflow as tf\n",
        "from tensorflow.keras.models import Model\n",
        "from tensorflow.keras.layers import Dense, Input\n",
        "\n",
        "import numpy as np\n",
        "import matplotlib.pyplot as plt\n",
        "import pandas as pd\n",
        "from sklearn.model_selection import train_test_split\n",
        "from sklearn.metrics import confusion_matrix\n",
        "import itertools\n",
        "from tqdm import tqdm\n",
        "import tensorflow_datasets as tfds\n",
        "import matplotlib.ticker as mticker"
      ]
    },
    {
      "cell_type": "markdown",
      "source": [
        "**LOAD THE DATASET**\n",
        "\n",
        "I loaded the Fashion MNIST dataset using Tensorflow Datasets. This dataset has 28 x 28 grayscale images of articles of clothing belonging to 10 clases.\n",
        "\n",
        "Here you are going to use the training and testing splits of the data. Testing split will be used for validation."
      ],
      "metadata": {
        "id": "rwLKq_uPDPpr"
      }
    },
    {
      "cell_type": "code",
      "source": [
        "train_data, info = tfds.load(\"fashion_mnist\", split = \"train\", with_info = True, data_dir='/content/sample_data', download=True)\n",
        "test_data = tfds.load(\"fashion_mnist\", split = \"test\", data_dir='/content/sample_data', download=True)"
      ],
      "metadata": {
        "id": "JhGdKUAHA4kx"
      },
      "execution_count": 2,
      "outputs": []
    },
    {
      "cell_type": "code",
      "source": [
        "class_names = [\"T-shirt/top\", \"Trouser/pants\", \"Pullover shirt\", \"Dress\", \"Coat\", \"Sandal\", \"Shirt\", \"Sneaker\", \"Bag\", \"Ankle boot\"]"
      ],
      "metadata": {
        "id": "OJMRBvBKFeJI"
      },
      "execution_count": 3,
      "outputs": []
    },
    {
      "cell_type": "markdown",
      "source": [
        "I normalized the image by dividing them by 255.0 so as to make the pixels fall in the range (0,1). I also reshaped the data so as to flatten the 28*28 pixel array into a flattened 784 pixel array.\n"
      ],
      "metadata": {
        "id": "b60aYG4QpbHD"
      }
    },
    {
      "cell_type": "code",
      "source": [
        "def format_image(data):        \n",
        "    image = data[\"image\"]\n",
        "    image = tf.reshape(image, [-1])\n",
        "    image = tf.cast(image, 'float32')\n",
        "    image = image / 255.0\n",
        "    return image, data[\"label\"]"
      ],
      "metadata": {
        "id": "XPcA27h8hogl"
      },
      "execution_count": 4,
      "outputs": []
    },
    {
      "cell_type": "code",
      "source": [
        "train_data = train_data.map(format_image)\n",
        "test_data = test_data.map(format_image)"
      ],
      "metadata": {
        "id": "GbzbabHUuo6K"
      },
      "execution_count": 5,
      "outputs": []
    },
    {
      "cell_type": "markdown",
      "source": [
        "I shuffled and batched my training data before feeding it into my model.\n",
        "\n",
        "The reason we shuffle the train data is that during training, we dont want a repetition of learned weights in different batches."
      ],
      "metadata": {
        "id": "TEQyCXYbveA9"
      }
    },
    {
      "cell_type": "code",
      "source": [
        "batch_size = 64\n",
        "train = train_data.shuffle(buffer_size=1024).batch(batch_size)\n",
        "\n",
        "test =  test_data.batch(batch_size=batch_size)"
      ],
      "metadata": {
        "id": "kIpd3m0evUl6"
      },
      "execution_count": 6,
      "outputs": []
    },
    {
      "cell_type": "markdown",
      "source": [
        "**DEFINE THE MODEL**\n",
        "\n",
        "I used keras functional API to connect two dense layers. The final layer is a softmax that outputs one of the 10 classes since this is a multi class classification problem."
      ],
      "metadata": {
        "id": "uEHon4TCw_Ju"
      }
    },
    {
      "cell_type": "code",
      "source": [
        "def base_model():\n",
        "  inputs = tf.keras.Input(shape=(784,), name='digits')\n",
        "  x = tf.keras.layers.Dense(64, activation='relu', name='dense_1')(inputs)\n",
        "  x = tf.keras.layers.Dense(64, activation='relu', name='dense_2')(x)\n",
        "  outputs = tf.keras.layers.Dense(10, activation='softmax', name='predictions')(x)\n",
        "  model = tf.keras.Model(inputs=inputs, outputs=outputs)\n",
        "  return model"
      ],
      "metadata": {
        "id": "pBCXSdpnw4hI"
      },
      "execution_count": 7,
      "outputs": []
    },
    {
      "cell_type": "markdown",
      "source": [
        "**Define Optimizer and Loss Function**\n",
        "\n",
        "I used Adam Optimizer and Sparse Categorical Crossentropy loss for this example.\n"
      ],
      "metadata": {
        "id": "zJpk3tNUz472"
      }
    },
    {
      "cell_type": "code",
      "source": [
        "optimizer = tf.keras.optimizers.Adam()\n",
        "loss_object = tf.keras.losses.SparseCategoricalCrossentropy()"
      ],
      "metadata": {
        "id": "_kukbUgfziLY"
      },
      "execution_count": 8,
      "outputs": []
    },
    {
      "cell_type": "markdown",
      "source": [
        "**DEFINE METRICS**\n",
        "\n",
        "I also defined metrics so that my training loop can update and display them. I used the SparseCategoricalAccuracy defined in tf.keras.metrics since the problem at hand is a multiclass classfication problem."
      ],
      "metadata": {
        "id": "Os6bc64Sz-WU"
      }
    },
    {
      "cell_type": "code",
      "source": [
        "train_acc_metric = tf.keras.metrics.SparseCategoricalAccuracy()\n",
        "val_acc_metric = tf.keras.metrics.SparseCategoricalAccuracy()"
      ],
      "metadata": {
        "id": "AmeKQ7ln09rb"
      },
      "execution_count": 9,
      "outputs": []
    },
    {
      "cell_type": "markdown",
      "source": [
        "**BUILDING TRAINING LOOPS**\n",
        "\n",
        "In this section I built my training loop consisting of training and validation sequences.\n",
        "\n",
        "The core of the training is using the model to calculate logits(predicted outputs) on specific set of inputs and compute loss(in this case I used SparseCategoricalCrossentropy)by comparing the predicted outputs to the true outputs. I then update the trainable weights using the chosen optimizer algorithm. Note that the Optimizer needs the computed loss and partial derivatives of loss with respect to each of the trainable weights to make updates to the same.\n",
        "\n",
        "I used gradient tape to calculate the gradient and updated the models trainable weights with the optimizer. "
      ],
      "metadata": {
        "id": "clW6yP1w_qOS"
      }
    },
    {
      "cell_type": "code",
      "source": [
        "def apply_gradient(optimizer, model, x, y):\n",
        "  with tf.GradientTape() as tape:\n",
        "    logits = model(x)\n",
        "    loss_value = loss_object(y_true=y, y_pred=logits)\n",
        "  \n",
        "  gradients = tape.gradient(loss_value, model.trainable_weights)\n",
        "  optimizer.apply_gradients(zip(gradients, model.trainable_weights))\n",
        "  \n",
        "  return logits, loss_value"
      ],
      "metadata": {
        "id": "1RyOEZ7C8iEw"
      },
      "execution_count": 10,
      "outputs": []
    },
    {
      "cell_type": "markdown",
      "source": [
        "This function performs training during one epoch. You run through all batches of training data in each epoch to make updates to trainable weights using your previous function. You can see that we also call update_state on your metrics to accumulate the value of your metrics. You are displaying a progress bar to indicate completion of training in each epoch. Here you use tqdm for displaying the progress bar."
      ],
      "metadata": {
        "id": "m4DXVYghLTd5"
      }
    },
    {
      "cell_type": "code",
      "source": [
        "def train_data_for_one_epoch():\n",
        "  losses = []\n",
        "  pbar = tqdm(total=len(list(enumerate(train))), position=0, leave=True, bar_format='{l_bar}{bar}| {n_fmt}/{total_fmt} ')\n",
        "  for step, (x_batch_train, y_batch_train) in enumerate(train):\n",
        "      logits, loss_value = apply_gradient(optimizer, model, x_batch_train, y_batch_train)\n",
        "      \n",
        "      losses.append(loss_value)\n",
        "      \n",
        "      train_acc_metric(y_batch_train, logits)\n",
        "      pbar.set_description(\"Training loss for step %s: %.4f\" % (int(step), float(loss_value)))\n",
        "      pbar.update()\n",
        "  return losses"
      ],
      "metadata": {
        "id": "dwoLKFxXKhwK"
      },
      "execution_count": 11,
      "outputs": []
    },
    {
      "cell_type": "markdown",
      "source": [
        "At the end of each epoch you have to validate the model on the test dataset. The following function calculates the loss on test dataset and updates the states of the validation metrics."
      ],
      "metadata": {
        "id": "6OEkWHy1Ltf2"
      }
    },
    {
      "cell_type": "code",
      "source": [
        "def perform_validation():\n",
        "  losses = []\n",
        "  for x_val, y_val in test:\n",
        "      val_logits = model(x_val)\n",
        "      val_loss = loss_object(y_true=y_val, y_pred=val_logits)\n",
        "      losses.append(val_loss)\n",
        "      val_acc_metric(y_val, val_logits)\n",
        "  return losses"
      ],
      "metadata": {
        "id": "-sTotpbUKmYE"
      },
      "execution_count": 12,
      "outputs": []
    },
    {
      "cell_type": "markdown",
      "source": [
        "I defined the traning loop thet runs though the training samples repeatedly over a fixed number of epochs. I combined the functions I built early to establish the following flow:\n",
        "\n",
        "1. Perform training over all batches of training data.\n",
        "2. Get values of metrics.\n",
        "3. Perform validation to calculate loss and update validation metrics on test data.\n",
        "4. Reset the metrics at the end of the epoch.\n",
        "5. Display statistics at the end of the epoch.\n",
        "\n",
        "Note: I also calculated the training and validation losses for the whole epoch at the end of the epoch."
      ],
      "metadata": {
        "id": "dG3qxuhoX6Ra"
      }
    },
    {
      "cell_type": "code",
      "source": [
        "\n",
        "model = base_model()\n",
        "\n",
        "# Iterate over epochs.\n",
        "epochs = 10\n",
        "epochs_val_losses, epochs_train_losses = [], []\n",
        "for epoch in range(epochs):\n",
        "  print('Start of epoch %d' % (epoch,))\n",
        "  \n",
        "  losses_train = train_data_for_one_epoch()\n",
        "  train_acc = train_acc_metric.result()\n",
        "\n",
        "  losses_val = perform_validation()\n",
        "  val_acc = val_acc_metric.result()\n",
        "\n",
        "  losses_train_mean = np.mean(losses_train)\n",
        "  losses_val_mean = np.mean(losses_val)\n",
        "  epochs_val_losses.append(losses_val_mean)\n",
        "  epochs_train_losses.append(losses_train_mean)\n",
        "\n",
        "  print('\\n Epoch %s: Train loss: %.4f  Validation Loss: %.4f, Train Accuracy: %.4f, Validation Accuracy %.4f' % (epoch, float(losses_train_mean), float(losses_val_mean), float(train_acc), float(val_acc)))\n",
        "  \n",
        "  train_acc_metric.reset_states()\n",
        "  val_acc_metric.reset_states()\n",
        "\n",
        "\n"
      ],
      "metadata": {
        "colab": {
          "base_uri": "https://localhost:8080/"
        },
        "id": "gdonpp-UL3f4",
        "outputId": "931d2f69-e377-44da-bf4a-f80dd84ba01d"
      },
      "execution_count": 13,
      "outputs": [
        {
          "output_type": "stream",
          "name": "stdout",
          "text": [
            "Start of epoch 0\n"
          ]
        },
        {
          "output_type": "stream",
          "name": "stderr",
          "text": [
            "Training loss for step 937: 0.6234: 100%|██████████| 938/938 \n"
          ]
        },
        {
          "output_type": "stream",
          "name": "stdout",
          "text": [
            "\n",
            " Epoch 0: Train loss: 0.5409  Validation Loss: 0.4332, Train Accuracy: 0.8078, Validation Accuracy 0.8455\n",
            "Start of epoch 1\n"
          ]
        },
        {
          "output_type": "stream",
          "name": "stderr",
          "text": [
            "Training loss for step 937: 0.3405: 100%|██████████| 938/938 \n"
          ]
        },
        {
          "output_type": "stream",
          "name": "stdout",
          "text": [
            "\n",
            " Epoch 1: Train loss: 0.3855  Validation Loss: 0.4116, Train Accuracy: 0.8610, Validation Accuracy 0.8579\n",
            "Start of epoch 2\n"
          ]
        },
        {
          "output_type": "stream",
          "name": "stderr",
          "text": [
            "Training loss for step 937: 0.3556: 100%|██████████| 938/938 \n"
          ]
        },
        {
          "output_type": "stream",
          "name": "stdout",
          "text": [
            "\n",
            " Epoch 2: Train loss: 0.3480  Validation Loss: 0.3796, Train Accuracy: 0.8746, Validation Accuracy 0.8641\n",
            "Start of epoch 3\n"
          ]
        },
        {
          "output_type": "stream",
          "name": "stderr",
          "text": [
            "Training loss for step 937: 0.1182: 100%|██████████| 938/938 \n"
          ]
        },
        {
          "output_type": "stream",
          "name": "stdout",
          "text": [
            "\n",
            " Epoch 3: Train loss: 0.3253  Validation Loss: 0.3803, Train Accuracy: 0.8805, Validation Accuracy 0.8693\n",
            "Start of epoch 4\n"
          ]
        },
        {
          "output_type": "stream",
          "name": "stderr",
          "text": [
            "Training loss for step 937: 0.3140: 100%|██████████| 938/938 \n"
          ]
        },
        {
          "output_type": "stream",
          "name": "stdout",
          "text": [
            "\n",
            " Epoch 4: Train loss: 0.3065  Validation Loss: 0.3598, Train Accuracy: 0.8875, Validation Accuracy 0.8752\n",
            "Start of epoch 5\n"
          ]
        },
        {
          "output_type": "stream",
          "name": "stderr",
          "text": [
            "Training loss for step 937: 0.3217: 100%|██████████| 938/938 \n"
          ]
        },
        {
          "output_type": "stream",
          "name": "stdout",
          "text": [
            "\n",
            " Epoch 5: Train loss: 0.2932  Validation Loss: 0.3503, Train Accuracy: 0.8920, Validation Accuracy 0.8816\n",
            "Start of epoch 6\n"
          ]
        },
        {
          "output_type": "stream",
          "name": "stderr",
          "text": [
            "Training loss for step 937: 0.1624: 100%|██████████| 938/938 \n"
          ]
        },
        {
          "output_type": "stream",
          "name": "stdout",
          "text": [
            "\n",
            " Epoch 6: Train loss: 0.2823  Validation Loss: 0.3511, Train Accuracy: 0.8951, Validation Accuracy 0.8807\n",
            "Start of epoch 7\n"
          ]
        },
        {
          "output_type": "stream",
          "name": "stderr",
          "text": [
            "Training loss for step 937: 0.2482: 100%|██████████| 938/938 \n"
          ]
        },
        {
          "output_type": "stream",
          "name": "stdout",
          "text": [
            "\n",
            " Epoch 7: Train loss: 0.2703  Validation Loss: 0.3679, Train Accuracy: 0.9008, Validation Accuracy 0.8735\n",
            "Start of epoch 8\n"
          ]
        },
        {
          "output_type": "stream",
          "name": "stderr",
          "text": [
            "Training loss for step 937: 0.1356: 100%|██████████| 938/938 \n"
          ]
        },
        {
          "output_type": "stream",
          "name": "stdout",
          "text": [
            "\n",
            " Epoch 8: Train loss: 0.2617  Validation Loss: 0.3432, Train Accuracy: 0.9041, Validation Accuracy 0.8834\n",
            "Start of epoch 9\n"
          ]
        },
        {
          "output_type": "stream",
          "name": "stderr",
          "text": [
            "Training loss for step 937: 0.1843: 100%|██████████| 938/938 \n"
          ]
        },
        {
          "output_type": "stream",
          "name": "stdout",
          "text": [
            "\n",
            " Epoch 9: Train loss: 0.2546  Validation Loss: 0.3483, Train Accuracy: 0.9054, Validation Accuracy 0.8818\n"
          ]
        }
      ]
    },
    {
      "cell_type": "code",
      "source": [
        ""
      ],
      "metadata": {
        "id": "cPDj2WJscuGn"
      },
      "execution_count": 13,
      "outputs": []
    },
    {
      "cell_type": "markdown",
      "source": [
        "**EVALUATE MODEL**\n",
        "\n",
        "PLOTS FOR EVALUATION\n",
        "\n",
        "I plotted the progress of loss as training proceeds over the number of epochs.\n"
      ],
      "metadata": {
        "id": "KSWc6ejKl9IE"
      }
    },
    {
      "cell_type": "code",
      "source": [
        "def plot_metrics(train_metric, val_metric, metric_name, title, ylim=5):\n",
        "  plt.title(title)\n",
        "  plt.ylim(0,ylim)\n",
        "  plt.gca().xaxis.set_major_locator(mticker.MultipleLocator(1))\n",
        "  plt.plot(train_metric,color='blue',label=metric_name)\n",
        "  plt.plot(val_metric,color='green',label='val_' + metric_name)\n",
        "\n",
        "plot_metrics(epochs_train_losses, epochs_val_losses, \"Loss\", \"Loss\", ylim=1.0)"
      ],
      "metadata": {
        "colab": {
          "base_uri": "https://localhost:8080/",
          "height": 281
        },
        "id": "XJ_FJD2CmZmY",
        "outputId": "b9bf21b7-08d0-48af-ee1c-9657da003fa6"
      },
      "execution_count": 14,
      "outputs": [
        {
          "output_type": "display_data",
          "data": {
            "image/png": "[encoded data removed]",
            "text/plain": [
              "<Figure size 432x288 with 1 Axes>"
            ]
          },
          "metadata": {
            "needs_background": "light"
          }
        }
      ]
    },
    {
      "cell_type": "markdown",
      "source": [
        "This function displays a row of images with their predictions and true labels."
      ],
      "metadata": {
        "id": "HYQto-I3mocT"
      }
    },
    {
      "cell_type": "code",
      "source": [
        "# utility to display a row of images with their predictions and true labels\n",
        "def display_images(image, predictions, labels, title, n):\n",
        "\n",
        "  display_strings = [str(i) + \"\\n\\n\" + str(j) for i, j in zip(predictions, labels)] \n",
        "\n",
        "  plt.figure(figsize=(17,3))\n",
        "  plt.title(title)\n",
        "  plt.yticks([])\n",
        "  plt.xticks([28*x+14 for x in range(n)], display_strings)\n",
        "  plt.grid(None)\n",
        "  image = np.reshape(image, [n, 28, 28])\n",
        "  image = np.swapaxes(image, 0, 1)\n",
        "  image = np.reshape(image, [28, 28*n])\n",
        "  plt.imshow(image)"
      ],
      "metadata": {
        "id": "r--YG3uzmhzR"
      },
      "execution_count": 15,
      "outputs": []
    },
    {
      "cell_type": "markdown",
      "source": [
        "I made predictions on the test dataset and plot the images with their true and predicted values."
      ],
      "metadata": {
        "id": "aadN0H4Jmxr4"
      }
    },
    {
      "cell_type": "code",
      "source": [
        "test_inputs = test_data.batch(batch_size=1000001)\n",
        "x_batches, y_pred_batches, y_true_batches = [], [], []\n",
        "\n",
        "for x, y in test_inputs:\n",
        "  y_pred = model(x)\n",
        "  y_pred_batches = y_pred.numpy()\n",
        "  y_true_batches = y.numpy()\n",
        "  x_batches = x.numpy()\n",
        "\n",
        "indexes = np.random.choice(len(y_pred_batches), size=10)\n",
        "images_to_plot = x_batches[indexes]\n",
        "y_pred_to_plot = y_pred_batches[indexes]\n",
        "y_true_to_plot = y_true_batches[indexes]\n",
        "\n",
        "y_pred_labels = [class_names[np.argmax(sel_y_pred)] for sel_y_pred in y_pred_to_plot]\n",
        "y_true_labels = [class_names[sel_y_true] for sel_y_true in y_true_to_plot]\n",
        "display_images(images_to_plot, y_pred_labels, y_true_labels, \"Predicted and True Values\", 10)"
      ],
      "metadata": {
        "colab": {
          "base_uri": "https://localhost:8080/",
          "height": 178
        },
        "id": "kic8a7qyms1Z",
        "outputId": "35ed198b-8f94-4c4e-fece-b289d22a14f1"
      },
      "execution_count": 16,
      "outputs": [
        {
          "output_type": "display_data",
          "data": {
            "image/png": "[encoded data removed]",
            "text/plain": [
              "<Figure size 1224x216 with 1 Axes>"
            ]
          },
          "metadata": {
            "needs_background": "light"
          }
        }
      ]
    }
  ]
}